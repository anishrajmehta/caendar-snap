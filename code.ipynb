{
  "cells": [
    {
      "cell_type": "code",
      "execution_count": null,
      "metadata": {
        "colab": {
          "base_uri": "https://localhost:8080/"
        },
        "id": "oYTzFT1lW1-R",
        "outputId": "583ff8e8-6179-49dd-8181-82b6e99616ee"
      },
      "outputs": [],
      "source": [
        "from google.colab import drive\n",
        "drive.mount('/content/drive')"
      ]
    },
    {
      "cell_type": "code",
      "execution_count": null,
      "metadata": {
        "colab": {
          "base_uri": "https://localhost:8080/"
        },
        "id": "tuNwaR2uVy7N",
        "outputId": "83b34f24-870a-494e-f6d9-3f4373f42130"
      },
      "outputs": [],
      "source": [
        "!pip install pytesseract\n",
        "!sudo apt install tesseract-ocr\n",
        "!sudo apt-get install tesseract-ocr-ind\n",
        "!pip install easyocr"
      ]
    },
    {
      "cell_type": "code",
      "execution_count": null,
      "metadata": {
        "colab": {
          "base_uri": "https://localhost:8080/"
        },
        "id": "PkLjlVY3z02a",
        "outputId": "9b3499a8-2659-46e3-92e3-5a8300ba2630"
      },
      "outputs": [],
      "source": [
        "!pip install --upgrade google-api-python-client google-auth-httplib2 google-auth-oauthlib"
      ]
    },
    {
      "cell_type": "code",
      "execution_count": 17,
      "metadata": {
        "id": "q8yczm7WsQgt"
      },
      "outputs": [],
      "source": [
        "  def display(img,cmap='gray'):\n",
        "    fig = plt.figure(figsize=(12,10))\n",
        "    ax = fig.add_subplot(111)\n",
        "    ax.imshow(img,cmap='gray')"
      ]
    },
    {
      "cell_type": "code",
      "execution_count": 18,
      "metadata": {
        "id": "4VpJiAJxXR2V"
      },
      "outputs": [],
      "source": [
        "import cv2\n",
        "import numpy as np\n",
        "import pytesseract\n",
        "import matplotlib.pyplot as plt\n",
        "import pandas as pd\n",
        "from PIL import Image\n",
        "from __future__ import print_function\n",
        "import datetime\n",
        "import os.path\n",
        "from google.auth.transport.requests import Request\n",
        "from google.oauth2.credentials import Credentials\n",
        "from google_auth_oauthlib.flow import InstalledAppFlow\n",
        "from googleapiclient.discovery import build\n",
        "from googleapiclient.errors import HttpError\n"
      ]
    },
    {
      "cell_type": "code",
      "execution_count": null,
      "metadata": {
        "colab": {
          "base_uri": "https://localhost:8080/",
          "height": 146
        },
        "id": "p23vC9t4qkyQ",
        "outputId": "dbb3cd2c-a714-493b-dd43-7de2c9505637"
      },
      "outputs": [],
      "source": [
        "img = cv2.imread(\"/content/drive/MyDrive/Projects/TT2.png\")\n",
        "plt.imshow(img)\n"
      ]
    },
    {
      "cell_type": "code",
      "execution_count": null,
      "metadata": {
        "colab": {
          "base_uri": "https://localhost:8080/",
          "height": 146
        },
        "id": "gFCmzNrlSMUz",
        "outputId": "0c43b13c-8b7c-48b8-8e82-b3178a94de00"
      },
      "outputs": [],
      "source": [
        "gray = cv2.cvtColor(img, cv2.COLOR_BGR2GRAY)\n",
        "plt.imshow(gray,cmap='gray')"
      ]
    },
    {
      "cell_type": "code",
      "execution_count": 21,
      "metadata": {
        "id": "HQCubxroSRZQ"
      },
      "outputs": [],
      "source": [
        "th, threshed = cv2.threshold(gray, 127, 255, cv2.THRESH_TRUNC)\n"
      ]
    },
    {
      "cell_type": "code",
      "execution_count": null,
      "metadata": {
        "colab": {
          "base_uri": "https://localhost:8080/"
        },
        "id": "MAeg9RTiSu3h",
        "outputId": "6fce90e0-342b-47bd-f196-653751079497"
      },
      "outputs": [],
      "source": [
        "print(threshed)"
      ]
    },
    {
      "cell_type": "code",
      "execution_count": null,
      "metadata": {
        "colab": {
          "base_uri": "https://localhost:8080/"
        },
        "id": "M6gs8HAqGm62",
        "outputId": "147f29aa-0084-4070-a159-089b554cd2f4"
      },
      "outputs": [],
      "source": [
        "data=pytesseract.image_to_data(threshed,lang=\"ind\")\n",
        "print(data)"
      ]
    },
    {
      "cell_type": "code",
      "execution_count": null,
      "metadata": {
        "colab": {
          "base_uri": "https://localhost:8080/"
        },
        "id": "lW8IKViIWP7W",
        "outputId": "08cba202-230f-4d59-a0f7-b88e4c1d13bf"
      },
      "outputs": [],
      "source": [
        "c=[]\n",
        "d=[]\n",
        "for x,b in enumerate(data.splitlines()):\n",
        "  if x!=0:\n",
        "    b=b.split()\n",
        "    if(len(b)>11):\n",
        "      c.append(b[-1])\n",
        "print(c)\n",
        "for j in c :\n",
        "  if(':' in j):\n",
        "    d.append(c.index(j))\n",
        "print(d)\n"
      ]
    },
    {
      "cell_type": "code",
      "execution_count": null,
      "metadata": {
        "colab": {
          "base_uri": "https://localhost:8080/"
        },
        "id": "Y_SwzMKedr-h",
        "outputId": "3c45906f-9782-41cc-b8e7-86d5f1a13ac1"
      },
      "outputs": [],
      "source": [
        "e=[]\n",
        "for k in range(len(d)):\n",
        "  if((d[k]+1) in d and k<len(d)-2):\n",
        "    indexxx=k+2\n",
        "    list1=c[d[k]:d[indexxx]]\n",
        "    print(list1)\n",
        "    e.append(list1)\n",
        "  elif(k==len(d)-2):\n",
        "    list1=c[d[k]:]\n",
        "    print(list1)\n",
        "    e.append(list1)\n",
        "  elif((d[k]+1) not in d and  (d[k]-1) not in d ):\n",
        "    indexxx=k+1\n",
        "    list1=c[d[k]:d[indexxx]]\n",
        "    print(list1)\n",
        "    e.append(list1)\n",
        "print(e)\n"
      ]
    },
    {
      "cell_type": "code",
      "execution_count": null,
      "metadata": {
        "colab": {
          "base_uri": "https://localhost:8080/"
        },
        "id": "8jdytzEd1ezV",
        "outputId": "7dcab2f5-4cc3-4dd7-eb04-7083a1c89638"
      },
      "outputs": [],
      "source": [
        "# If modifying these scopes, delete the file token.json.\n",
        "SCOPES = ['https://www.googleapis.com/auth/calendar.readonly']\n",
        "\n",
        "\n",
        "def main():\n",
        "    \"\"\"Shows basic usage of the Google Calendar API.\n",
        "    Prints the start and name of the next 10 events on the user's calendar.\n",
        "    \"\"\"\n",
        "    creds = None\n",
        "    # The file token.json stores the user's access and refresh tokens, and is\n",
        "    # created automatically when the authorization flow completes for the first\n",
        "    # time.\n",
        "    if os.path.exists('token.json'):\n",
        "        creds = Credentials.from_authorized_user_file('token.json', SCOPES)\n",
        "    # If there are no (valid) credentials available, let the user log in.\n",
        "    if not creds or not creds.valid:\n",
        "        if creds and creds.expired and creds.refresh_token:\n",
        "            creds.refresh(Request())\n",
        "        else:\n",
        "            flow = InstalledAppFlow.from_client_secrets_file(\n",
        "               '/content/drive/MyDrive/Projects/client_secret_1011519469258-8f6p02jeg919aq102a30m6f6okrh0git.apps.googleusercontent.com.json', SCOPES)\n",
        "            creds = flow.run_local_server(port=0)\n",
        "            # Save the credentials for the next run      \n",
        "        with open('token.json', 'w') as token:\n",
        "            token.write(creds.to_json())\n",
        "\n",
        "    try:\n",
        "        service = build('calendar', 'v3', credentials=creds)\n",
        "\n",
        "        # Call the Calendar API\n",
        "        now = datetime.datetime.utcnow().isoformat() + 'Z'  # 'Z' indicates UTC time\n",
        "        print('Getting the upcoming 10 events')\n",
        "        events_result = service.events().list(calendarId='primary', timeMin=now,\n",
        "                                              maxResults=10, singleEvents=True,\n",
        "                                              orderBy='startTime').execute()\n",
        "        events = events_result.get('items', [])\n",
        "\n",
        "        if not events:\n",
        "            print('No upcoming events found.')\n",
        "            return\n",
        "\n",
        "        # Prints the start and name of the next 10 events\n",
        "        for event in events:\n",
        "            start = event['start'].get('dateTime', event['start'].get('date'))\n",
        "            print(start, event['summary'])\n",
        "\n",
        "    except HttpError as error:\n",
        "        print('An error occurred: %s' % error)\n",
        "\n",
        "\n",
        "if __name__ == '__main__':\n",
        "    main()"
      ]
    },
    {
      "cell_type": "code",
      "execution_count": null,
      "metadata": {
        "id": "5kJtIhwdEAmp"
      },
      "outputs": [],
      "source": []
    },
    {
      "cell_type": "code",
      "execution_count": null,
      "metadata": {
        "id": "cZBmXMiWpjCv"
      },
      "outputs": [],
      "source": [
        "MON=['A11','B11','C11','A21','E13','B21','C21']\n",
        "TUE=['D11','E11','F11','D21','C23','E21','F21']\n",
        "WED=['A12','B12','C12','A22','F13','B22','C22']\n",
        "THUR=['D12','E12','F12','D22','B23','E22','F22']\n",
        "FRI=['D23','E23','D13','A23','C13','B13','A13']\n",
        "\n",
        "for i in e:\n",
        "  for j in i:\n",
        "    if(\"-\" in j):\n",
        "      Z=i.index(j)\n",
        "      timestr=i[0]\n",
        "      roomno=i[Z+1]\n",
        "      slot=j[0:3]\n",
        "\n",
        "      if slot in MON:\n",
        "        val=dict['Monday']\n",
        "        for m in range(len(val)):\n",
        "          dT=val[m] + ' ' + timestr\n",
        "          date_format='%Y-%m-%d %H: %M'\n",
        "          end=final+timedleta(hours=1)\n",
        "          event={\n",
        "            'summary':j,\n",
        "            'start':{\n",
        "              'dateTime':final.strftime('%Y-%m-%d%H:%M:%S'),\n",
        "              'timeZone':timezone,\n",
        "            },\n",
        "          }\n",
        "          event=service.events().insert(calendarId='primary', body=event).execute()\n"
      ]
    },
    {
      "cell_type": "code",
      "execution_count": null,
      "metadata": {
        "id": "AYxs3ehkStU1"
      },
      "outputs": [],
      "source": [
        "text1 = pytesseract.image_to_data(threshed,output_type='data.frame')\n",
        "text2 = pytesseract.image_to_string(threshed, lang=\"ind\")\n",
        "print(text2)\n",
        "text = text1[text1.conf != -1]\n",
        "lines = text.groupby('block_num')['text'].apply(list)\n",
        "conf = text.groupby(['block_num'])['conf'].mean()"
      ]
    },
    {
      "cell_type": "code",
      "execution_count": null,
      "metadata": {
        "id": "fIOipzcgvUNt"
      },
      "outputs": [],
      "source": [
        "pd.set_option('max_columns', None)\n",
        "pd.set_option('display.max_rows', text.shape[0]+1)"
      ]
    },
    {
      "cell_type": "code",
      "execution_count": null,
      "metadata": {
        "id": "OLqM1g0GqzNu"
      },
      "outputs": [],
      "source": [
        "print(\"text1 : \\n\")\n",
        "print(text1,\"\\n\\n\")\n",
        "\n",
        "print(\"text : \\n\")\n",
        "print(text, \"\\n\\n\")\n",
        "  \n",
        "print(\"lines : \\n\")\n",
        "for i in range(len(lines)):\n",
        "  print(\"level\", i, \": \", lines.iloc[i])\n",
        "\n",
        "print(\"\\n\\n conf : \\n\")\n",
        "print(conf)"
      ]
    },
    {
      "cell_type": "code",
      "execution_count": null,
      "metadata": {
        "id": "s2IvBD4LoiLs"
      },
      "outputs": [],
      "source": [
        "from pytesseract import Output\n",
        "\n",
        "img = cv2.imread('timetable.png')\n",
        "\n",
        "d = pytesseract.image_to_data(img, output_type=Output.DICT)\n",
        "print(d.keys())"
      ]
    },
    {
      "cell_type": "code",
      "execution_count": null,
      "metadata": {
        "id": "ZiP0LwG1oi7y"
      },
      "outputs": [],
      "source": [
        "n_boxes = len(text1['text'])\n",
        "for i in range(n_boxes):\n",
        "    if int(text1['conf'][i]) > 60:\n",
        "        (x, y, w, h) = (text1['left'][i], text1['top'][i], text1['width'][i], text1['height'][i])\n",
        "        img = cv2.rectangle(img, (x, y), (x + w, y + h), (0, 255, 0), 2)\n",
        "\n",
        "display(img)"
      ]
    },
    {
      "cell_type": "code",
      "execution_count": null,
      "metadata": {
        "id": "o9dPCEhOrgqp"
      },
      "outputs": [],
      "source": []
    }
  ],
  "metadata": {
    "colab": {
      "provenance": []
    },
    "kernelspec": {
      "display_name": "Python 3",
      "name": "python3"
    }
  },
  "nbformat": 4,
  "nbformat_minor": 0
}
