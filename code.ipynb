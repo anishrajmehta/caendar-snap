{
  "cells": [
    {
      "attachments": {},
      "cell_type": "markdown",
      "metadata": {},
      "source": [
        "## CALENDAR SNAP - OPTICAL CHARACTER RECOGNITION BASED EVENT SCHEDULER"
      ]
    },
    {
      "cell_type": "code",
      "execution_count": null,
      "metadata": {
        "colab": {
          "base_uri": "https://localhost:8080/"
        },
        "id": "oYTzFT1lW1-R",
        "outputId": "583ff8e8-6179-49dd-8181-82b6e99616ee",
        "vscode": {
          "languageId": "python"
        }
      },
      "outputs": [],
      "source": [
        "from google.colab import drive\n",
        "drive.mount('/content/drive')"
      ]
    },
    {
      "attachments": {},
      "cell_type": "markdown",
      "metadata": {},
      "source": [
        "### Installing required libraries:"
      ]
    },
    {
      "cell_type": "code",
      "execution_count": null,
      "metadata": {
        "colab": {
          "base_uri": "https://localhost:8080/"
        },
        "id": "tuNwaR2uVy7N",
        "outputId": "83b34f24-870a-494e-f6d9-3f4373f42130",
        "vscode": {
          "languageId": "python"
        }
      },
      "outputs": [],
      "source": [
        "!pip install pytesseract\n",
        "!sudo apt install tesseract-ocr\n",
        "!sudo apt-get install tesseract-ocr-ind\n",
        "!pip install datetime\n",
        "!pip install pytz\n",
        "!pip install pathlib\n",
        "!pip install icalendar"
      ]
    },
    {
      "cell_type": "code",
      "execution_count": 17,
      "metadata": {
        "id": "q8yczm7WsQgt",
        "vscode": {
          "languageId": "python"
        }
      },
      "outputs": [],
      "source": [
        "def display(img, cmap='gray'):\n",
        "    fig = plt.figure(figsize=(12,10))\n",
        "    ax = fig.add_subplot(111)\n",
        "    ax.imshow(img, cmap='gray')"
      ]
    },
    {
      "attachments": {},
      "cell_type": "markdown",
      "metadata": {},
      "source": [
        "### Importing the libraries:"
      ]
    },
    {
      "cell_type": "code",
      "execution_count": 18,
      "metadata": {
        "id": "4VpJiAJxXR2V",
        "vscode": {
          "languageId": "python"
        }
      },
      "outputs": [],
      "source": [
        "import cv2\n",
        "import numpy as np\n",
        "import pytesseract\n",
        "import matplotlib.pyplot as plt\n",
        "import pandas as pd\n",
        "from PIL import Image\n",
        "import datetime\n",
        "import os.path\n",
        "import datetime\n",
        "from datetime import datetime , timedelta ,date\n",
        "from icalendar import Calendar, Event, vCalAddress, vText\n",
        "import pytz\n",
        "from datetime import datetime\n",
        "import os\n",
        "from pathlib import Path"
      ]
    },
    {
      "attachments": {},
      "cell_type": "markdown",
      "metadata": {},
      "source": [
        "### Reading the Image:"
      ]
    },
    {
      "cell_type": "code",
      "execution_count": null,
      "metadata": {
        "colab": {
          "base_uri": "https://localhost:8080/",
          "height": 146
        },
        "id": "p23vC9t4qkyQ",
        "outputId": "dbb3cd2c-a714-493b-dd43-7de2c9505637",
        "vscode": {
          "languageId": "python"
        }
      },
      "outputs": [],
      "source": [
        "img = cv2.imread(\"/content/drive/MyDrive/PROJECT/TT2.png\")\n",
        "plt.imshow(img)"
      ]
    },
    {
      "attachments": {},
      "cell_type": "markdown",
      "metadata": {},
      "source": [
        "### Converting the image to Grayscale for better conversion:"
      ]
    },
    {
      "cell_type": "code",
      "execution_count": null,
      "metadata": {
        "colab": {
          "base_uri": "https://localhost:8080/",
          "height": 146
        },
        "id": "gFCmzNrlSMUz",
        "outputId": "0c43b13c-8b7c-48b8-8e82-b3178a94de00",
        "vscode": {
          "languageId": "python"
        }
      },
      "outputs": [],
      "source": [
        "gray = cv2.cvtColor(img, cv2.COLOR_BGR2GRAY)\n",
        "plt.imshow(gray,cmap=‘gray’)"
      ]
    },
    {
      "attachments": {},
      "cell_type": "markdown",
      "metadata": {},
      "source": [
        "### Finding the Image’s threshold to better scan text and extracting data from the image:"
      ]
    },
    {
      "cell_type": "code",
      "execution_count": 21,
      "metadata": {
        "id": "HQCubxroSRZQ",
        "vscode": {
          "languageId": "python"
        }
      },
      "outputs": [],
      "source": [
        "th, threshed = cv2.threshold(gray, 127, 255, cv2.THRESH_TRUNC)\n",
        "data=pytesseract.image_to_data(threshed,lang=\"ind\")\n",
        "print(data)"
      ]
    },
    {
      "attachments": {},
      "cell_type": "markdown",
      "metadata": {},
      "source": [
        "### Cleaning the above extracted data and getting only text:"
      ]
    },
    {
      "cell_type": "code",
      "execution_count": null,
      "metadata": {
        "colab": {
          "base_uri": "https://localhost:8080/"
        },
        "id": "lW8IKViIWP7W",
        "outputId": "08cba202-230f-4d59-a0f7-b88e4c1d13bf",
        "vscode": {
          "languageId": "python"
        }
      },
      "outputs": [],
      "source": [
        "c=[]\n",
        "d=[]\n",
        "for x, b in enumerate(data.splitlines()):\n",
        "  if x!=0:\n",
        "    b=b.split()\n",
        "    if(len(b)>11):\n",
        "      c.append(b[-1])\n",
        "print(c)\n",
        "for j in c :\n",
        "  if(':' in j):\n",
        "    d.append(c.index(j))\n",
        "print(d)"
      ]
    },
    {
      "attachments": {},
      "cell_type": "markdown",
      "metadata": {},
      "source": [
        "### Sorting the data in a linked list 'e' which has all the detected data column wise including time slots classes etc:"
      ]
    },
    {
      "cell_type": "code",
      "execution_count": null,
      "metadata": {
        "colab": {
          "base_uri": "https://localhost:8080/"
        },
        "id": "Y_SwzMKedr-h",
        "outputId": "3c45906f-9782-41cc-b8e7-86d5f1a13ac1",
        "vscode": {
          "languageId": "python"
        }
      },
      "outputs": [],
      "source": [
        "e=[]\n",
        "for k in range(len(d)):\n",
        "  if((d[k]+1) in d and k<len(d)-2):\n",
        "    indexxx=k+2\n",
        "    list1=c[d[k]:d[indexxx]]\n",
        "    print(list1)\n",
        "    e.append(list1)\n",
        "  elif(k==len(d)-2):\n",
        "    list1=c[d[k]:]\n",
        "    print(list1)\n",
        "    e.append(list1)\n",
        "  elif((d[k]+1) not in d and  (d[k]-1) not in d ):\n",
        "    indexxx=k+1\n",
        "    list1=c[d[k]:d[indexxx]]\n",
        "    print(list1)\n",
        "    e.append(list1)\n",
        "print(e)"
      ]
    },
    {
      "attachments": {},
      "cell_type": "markdown",
      "metadata": {},
      "source": [
        "### Finding dates for every day for next 4 months and then sorting the slots and pushing events in a .ics file and saving it to drive:"
      ]
    },
    {
      "cell_type": "code",
      "execution_count": null,
      "metadata": {
        "colab": {
          "base_uri": "https://localhost:8080/"
        },
        "id": "8jdytzEd1ezV",
        "outputId": "7dcab2f5-4cc3-4dd7-eb04-7083a1c89638",
        "vscode": {
          "languageId": "python"
        }
      },
      "outputs": [],
      "source": [
        "timezone='Asia/Kolkata'\n",
        "today =  date.today()\n",
        "name = today.strftime(\"%A\")\n",
        "def generate_dates(days_from_today, date):\n",
        "    dates = []\n",
        "    k=0\n",
        "    for i in range(days_from_today):\n",
        "        d = date + timedelta(k)\n",
        "        k+=7\n",
        "        dates.append(d)\n",
        "    dates = [str(d) for d in dates]\n",
        "    return dates \n",
        "dict={}\n",
        "for i in range(7):\n",
        "  d = today + timedelta(i)\n",
        "  name=d.strftime(\"%A\")\n",
        "  dict[name]=generate_dates(16,d)\n",
        "\n",
        "MON=['A11','B11','C11','A21','E13','B21','C21']\n",
        "TUE=['D11','E11','F11','D21','C23','E21','F21']\n",
        "WED=['A12','B12','C12','A22','F13','B22','C22']\n",
        "THUR=['D12','E12','F12','D22','B23','E22','F22']\n",
        "FRI=['D23','E23','D13','A23','C13','B13','A13']\n",
        "\n",
        "cal = Calendar()\n",
        "cal.add('prodid', '-//My Product//My Version//EN')\n",
        "cal.add('version', '2.0')\n",
        "cal.add('attendee', 'MAILTO:archit.garg2021@vitbhopal.ac.in')\n",
        "\n",
        "for i in e:\n",
        "    for j in i:\n",
        "      if('-' in j):\n",
        "          Z=i.index(j)\n",
        "          timestr=i[0]\n",
        "          roomno=i[Z+1]\n",
        "          slot=j[0:3]\n",
        "\n",
        "          if slot in MON:\n",
        "            val=dict['Monday']\n",
        "            for m in range(len(val)):\n",
        "                dT= val[m] + ' '+ timestr\n",
        "                date_format = '%Y-%m-%d %H:%M'\n",
        "                final = datetime.strptime(dT, date_format)\n",
        "                end=final + timedelta(hours=1)\n",
        "                event = Event()\n",
        "                event.add('summary',j)\n",
        "                event.add('dtstart', final)\n",
        "                event.add('dtend',end)\n",
        "                cal.add_component(event)\n",
        "                \n",
        "          elif slot in TUE:\n",
        "            val=dict['Tuesday']\n",
        "            for m in range(len(val)):\n",
        "                dT= val[m] + ' '+ timestr\n",
        "                date_format = '%Y-%m-%d %H:%M'\n",
        "                final = datetime.strptime(dT, date_format)\n",
        "                end=final + timedelta(hours=1)\n",
        "                event = Event()\n",
        "                event.add('summary',j)\n",
        "                event.add('dtstart', final)\n",
        "                event.add('dtend',end)\n",
        "                cal.add_component(event)\n",
        "\n",
        "          elif slot in WED:\n",
        "            val=dict['Wednesday']\n",
        "            for m in range(len(val)):\n",
        "                dT= val[m] + ' '+ timestr\n",
        "                date_format = '%Y-%m-%d %H:%M'\n",
        "                final = datetime.strptime(dT, date_format)\n",
        "                end=final + timedelta(hours=1)\n",
        "                event = Event()\n",
        "                event.add('summary',j)\n",
        "                event.add('dtstart', final)\n",
        "                event.add('dtend',end)\n",
        "                cal.add_component(event)\n",
        "\n",
        "          elif slot in THUR:\n",
        "            val=dict['Thursday']\n",
        "            for m in range(len(val)):\n",
        "                dT= val[m] + ' '+ timestr\n",
        "                date_format = '%Y-%m-%d %H:%M'\n",
        "                final = datetime.strptime(dT, date_format)\n",
        "                end=final + timedelta(hours=1)\n",
        "                event = Event()\n",
        "                event.add('summary',j)\n",
        "                event.add('dtstart', final)\n",
        "                event.add('dtend',end)\n",
        "                cal.add_component(event)\n",
        "          \n",
        "          elif slot in FRI:\n",
        "            val=dict['Friday']\n",
        "            for m in range(len(val)):\n",
        "                dT= val[m] + ' '+ timestr\n",
        "                date_format = '%Y-%m-%d %H:%M'\n",
        "                final = datetime.strptime(dT, date_format)\n",
        "                end=final + timedelta(hours=1)\n",
        "                event = Event()\n",
        "                event.add('summary',j)\n",
        "                event.add('dtstart', final)\n",
        "                event.add('dtend',end)\n",
        "                cal.add_component(event)\n",
        "\n",
        "directory = '/content/drive/MyDrive/Colab_Notebooks/'\n",
        "print(\"ics file will be generated at \", directory)\n",
        "f = open(os.path.join(directory, 'example.ics'), 'wb')\n",
        "f.write(cal.to_ical())\n",
        "f.close()"
      ]
    }
  ],
  "metadata": {
    "colab": {
      "provenance": []
    },
    "kernelspec": {
      "display_name": "Python 3",
      "name": "python3"
    }
  },
  "nbformat": 4,
  "nbformat_minor": 0
}
